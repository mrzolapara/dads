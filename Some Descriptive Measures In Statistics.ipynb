{
 "cells": [
  {
   "cell_type": "markdown",
   "metadata": {},
   "source": [
    "# Descriptive Measures\n",
    "\n",
    "In statistics, Descriptive measures are brief descriptive coefficients that summarize a given data set, which can be either a representation of the entire population or some sample of population. \n",
    "\n",
    "So, here we are going to describe about the following descriptive measures of statistics in Jupyter notebook using various python libraries.\n",
    "\n",
    "- Measures of Central Tendency\n",
    "- Measures of Variation\n",
    "\n",
    "#  1) Measures of Central Tendency\n",
    "\n",
    "Descriptive measures that indicate where the center or most typical value of a data set lies are called Measures of Central Tendency. These are often called averages. \n",
    "\n",
    "Here, We will discuss about the most important measures of central tendency which are the Mean, Meadian and Mode. \n",
    "The mean and median apply only to quantitative data, whereas the mode can be used with either quantitative or qualitative data. \n",
    "\n",
    "# Mean\n",
    "\n",
    "The mean of a dataset is its arithmatic mean. The mean of dataset is the sum of the observations divided by the number of observations.\n",
    "\n",
    "# Example\n",
    "\n",
    "Here, we see one example...\n",
    "\n",
    "We have 9 Asian Countries GDPs as follows : 7.5, 5.5, 10.6, 8.2, 14.2, 6.8, 9.2, 5.9, 4.2\n",
    "\n",
    "Now we have to find average GDP of this Asian Countries then We will find it as below.\n"
   ]
  },
  {
   "cell_type": "code",
   "execution_count": 9,
   "metadata": {},
   "outputs": [
    {
     "name": "stdout",
     "output_type": "stream",
     "text": [
      "8.011111111111113\n"
     ]
    }
   ],
   "source": [
    "#Here we store all GDPs in one variable named asiangdp.\n",
    "\n",
    "asiangdp = (7.5, 5.5, 10.6, 8.2, 14.2, 6.8, 9.2, 5.9, 4.2)\n",
    "\n",
    "#We have to import NumPy library for doing some descriptive statistics.\n",
    "\n",
    "import numpy as np\n",
    "\n",
    "x = np.mean(asiangdp)\n",
    "print(x)\n",
    "\n",
    "#Press Shift+Enter to get the answer."
   ]
  },
  {
   "cell_type": "markdown",
   "metadata": {},
   "source": [
    "So, We got the Mean of 9 Asian Country's GDP. And it is 8.011  "
   ]
  },
  {
   "cell_type": "markdown",
   "metadata": {},
   "source": [
    "# Median\n",
    "\n",
    "Another frequently used measure of center is the median. Essentially, the median of a data set is the number that divides the bottom 50% of the data from the top 50%. The median of a data set is the middle value in its ordered list.\n",
    "\n",
    "Arrange the data in increasing order.\n",
    "\n",
    "- If the number of observations is odd, then the median is the observation exactly in the middle of the ordered list.\n",
    "- If the number of observations is even, then the median is the mean of the two middle observations in the ordered list.\n",
    "\n",
    "In both cases, if we let n denote the number of observations, then the median is at position (n + 1)/2 in the ordered list.\n",
    "\n",
    "# Example\n",
    "\n",
    "We have a record of 16 student's height in class as : 175, 185, 160, 163, 159, 180, 163, 174, 159, 181, 178, 169, 170, 174, 185, 167\n",
    "\n",
    "Now we have to find the median height of the student in this particular class. So, We will code as following :\n"
   ]
  },
  {
   "cell_type": "code",
   "execution_count": 7,
   "metadata": {},
   "outputs": [
    {
     "name": "stdout",
     "output_type": "stream",
     "text": [
      "172.0\n"
     ]
    }
   ],
   "source": [
    "#Here We store all heights in one variable named studentsheights.\n",
    "\n",
    "studentsheights = (175, 185, 160, 163, 159, 180, 163, 174, 159, 181, 178, 169, 170, 174, 185, 167)\n",
    "\n",
    "#We have already imported NumPy library in previous code of Mean. So, we don't need to import it again ! \n",
    "\n",
    "y = np.median(studentsheights)\n",
    "print(y)\n",
    "\n",
    "#Press Shift+Enter to get the answer."
   ]
  },
  {
   "cell_type": "markdown",
   "metadata": {},
   "source": [
    "So We have the median height of the students in class is 172."
   ]
  },
  {
   "cell_type": "markdown",
   "metadata": {},
   "source": [
    "# Mode\n",
    "\n",
    "The mode of a data set is its most frequently occurring value.\n",
    "\n",
    "Find the frequency of each value in the data set.\n",
    "\n",
    "- If no value occurs more than once, then the data set has no mode.\n",
    "- Otherwise, any value that occurs with the greatest frequency is a mode of the data set.\n",
    "\n",
    "# Example\n",
    "\n",
    "Here, We have some records which contains the marks of 10 students as : 75, 89, 95, 45, 73, 66, 75, 59, 75, 81\n",
    "\n",
    "Now, We have to find the mode of the student's marks. We will code as following:\n"
   ]
  },
  {
   "cell_type": "code",
   "execution_count": 10,
   "metadata": {},
   "outputs": [
    {
     "name": "stdout",
     "output_type": "stream",
     "text": [
      "ModeResult(mode=array([75]), count=array([3]))\n"
     ]
    }
   ],
   "source": [
    "#Here We store all marks in one variable named studentsmarks.\n",
    "\n",
    "studentsmarks = (75, 89, 95, 45, 73, 66, 75, 59, 75, 81)\n",
    "\n",
    "#Before, We imported NumPy Library but, to find Mode We have to import stats from SciPy Library. \n",
    "\n",
    "from scipy import stats\n",
    "\n",
    "z = stats.mode(studentsmarks)\n",
    "print(z)\n",
    "\n",
    "#Press Shift+Enter to get the answer."
   ]
  },
  {
   "cell_type": "markdown",
   "metadata": {},
   "source": [
    "So, here we can see that the Mode is 75 which is repeated 3 times."
   ]
  },
  {
   "cell_type": "markdown",
   "metadata": {},
   "source": [
    "\n",
    "# 2) Measures of Variation\n",
    "\n",
    "There are three measures of variability and they are:\n",
    "\n",
    "- Range\n",
    "- InterQuartile Range\n",
    "- Standard Deviation \n",
    "- Variance\n",
    "\n",
    "# Range\n",
    "\n",
    "The range is simply the difference between the largest score (the maximum value) and the smallest score (the mininum value) of a distribution. This can give quick sense of the spread of the data.\n",
    "\n",
    "# Example\n",
    "\n",
    "Here, We have data of some speeds recorded for the cars as : 86, 65, 109, 26, 59, 69, 79, 90, 43, 120, 71, 63, 88, 104, 57\n",
    "\n",
    "Let's see it on cell:"
   ]
  },
  {
   "cell_type": "code",
   "execution_count": 2,
   "metadata": {},
   "outputs": [
    {
     "name": "stdout",
     "output_type": "stream",
     "text": [
      "94\n"
     ]
    }
   ],
   "source": [
    "#Here We store all speed records in one variable named speed.\n",
    "\n",
    "speed = [86, 65, 109, 26, 59, 69, 79, 90, 43, 120, 71, 63, 88, 104, 57]\n",
    "\n",
    "#We define function for range as below:\n",
    "\n",
    "def getrange(speed):\n",
    "    return max(speed) - min(speed)\n",
    "\n",
    "print(getrange(speed))\n",
    "\n",
    "#Press Shift+Enter to get the answer."
   ]
  },
  {
   "cell_type": "markdown",
   "metadata": {},
   "source": [
    "Here, We get the range 94. e.g. 120 - 26 = 94 (max_value - min_value) \n",
    "\n",
    "# InterQuartile Range (IQR)\n",
    "\n",
    "The IQR is the difference between the score that marks the 75th percentile which is a third quartile and the score that marks the 25th percentile which is a first quartile.\n",
    "\n",
    "# Example  \n",
    "\n",
    "Here, We taking the record of speed again which are as follows: 86, 65, 109, 26, 59, 69, 79, 90, 43, 120, 71, 63, 88, 104, 57\n",
    "\n",
    "Let's check it out."
   ]
  },
  {
   "cell_type": "code",
   "execution_count": 4,
   "metadata": {},
   "outputs": [
    {
     "name": "stdout",
     "output_type": "stream",
     "text": [
      "28.0\n"
     ]
    }
   ],
   "source": [
    "#Here We store all speed records in one variable named speed.\n",
    "\n",
    "speed = [86, 65, 109, 26, 59, 69, 79, 90, 43, 120, 71, 63, 88, 104, 57]\n",
    "\n",
    "#We will import iqr function from scipy.stats library\n",
    "\n",
    "from scipy.stats import iqr\n",
    "print(iqr(speed))\n",
    "\n",
    "#Press Shift+Enter to get the answer."
   ]
  },
  {
   "cell_type": "markdown",
   "metadata": {},
   "source": [
    "Here we get 28 as the InterQuartile Range (IQR).\n",
    "\n",
    "# Standard Deviation\n",
    "\n",
    "The standard deviation indicates how far, on average, the observations in the sample are from the mean of the sample. So, if the average score for a distribution is 10 and any individual score is 12 then the deviation is 2. \n",
    "\n",
    "This is a very useful statistic because it provides a handly measure of how spread out the scores are in the distribution.\n",
    "\n",
    "# Example\n",
    "\n",
    "We have a records of the students' marks of one subject as : 45, 88, 71, 59, 82, 96, 62, 76, 85, 59.\n",
    "\n",
    "We will find the standard deviation of students'marks."
   ]
  },
  {
   "cell_type": "code",
   "execution_count": 8,
   "metadata": {},
   "outputs": [
    {
     "data": {
      "text/plain": [
       "15.930752929127012"
      ]
     },
     "execution_count": 8,
     "metadata": {},
     "output_type": "execute_result"
    }
   ],
   "source": [
    "#Here We store all students' marks in one variable named smarks.\n",
    "\n",
    "smarks = [45, 88, 71, 59, 82, 96, 62, 76, 85, 59]\n",
    "\n",
    "#Here we will import Statistics library.\n",
    "\n",
    "import statistics\n",
    "statistics.stdev(smarks)\n",
    "\n",
    "#Press Shift+Enter to get the answer."
   ]
  },
  {
   "cell_type": "markdown",
   "metadata": {},
   "source": [
    "Sp, here we get 15.93 as the standard deviation. \n",
    "\n",
    "# Variance\n",
    "\n",
    "The variance provides a statistical average of the amount of dispersion in a distribution of scores.\n",
    "\n",
    "The square of the difference between an individual score in a distribution and the mean for the distribution is called squared deviation. And the sum of the squared deviations divided by the total number of records(data).\n",
    "\n",
    "# Example\n",
    "\n",
    "Here, We take the same data as we used in previous cell, the marks of students as : 45, 88, 71, 59, 82, 96, 62, 76, 85, 59\n",
    "\n",
    "Let's see how we can find variance."
   ]
  },
  {
   "cell_type": "code",
   "execution_count": 9,
   "metadata": {},
   "outputs": [
    {
     "data": {
      "text/plain": [
       "253.7888888888889"
      ]
     },
     "execution_count": 9,
     "metadata": {},
     "output_type": "execute_result"
    }
   ],
   "source": [
    "#Here We store all students' marks in one variable named smarks.\n",
    "\n",
    "smarks = [45, 88, 71, 59, 82, 96, 62, 76, 85, 59]\n",
    "\n",
    "#We will import statistics library.\n",
    "\n",
    "import statistics\n",
    "statistics.variance(smarks)\n",
    "\n",
    "#Press Shift+Enter to get the answer."
   ]
  },
  {
   "cell_type": "markdown",
   "metadata": {},
   "source": [
    "Here, We get 253.8 as Variance which is the squared value of standard deviation which we found for same data in previous cell. e.g. (15.93^2)."
   ]
  },
  {
   "cell_type": "markdown",
   "metadata": {},
   "source": [
    "# References\n",
    "\n",
    "- Introductory Statistics by Neil A. Weiss\n",
    "- Statistics in Plain English by Timothy C. Urdan\n",
    "- Investopedia.com\n",
    "- Geeksforgeeks.org\n",
    "- Pluralsight.com\n",
    "- W3Schools.com"
   ]
  },
  {
   "cell_type": "markdown",
   "metadata": {},
   "source": [
    "# ------------------------------------------------------------------------------------------------------\n",
    "\n",
    "Thanks for check it out !\n",
    "\n",
    "This is my first jupyter notebook blog, so if there is any mistake then please give some needed instruction, so I can gain more knowledge. \n",
    "\n",
    "Any feedback would be appreciated. \n",
    "Thanks Again !"
   ]
  }
 ],
 "metadata": {
  "kernelspec": {
   "display_name": "Python 3",
   "language": "python",
   "name": "python3"
  },
  "language_info": {
   "codemirror_mode": {
    "name": "ipython",
    "version": 3
   },
   "file_extension": ".py",
   "mimetype": "text/x-python",
   "name": "python",
   "nbconvert_exporter": "python",
   "pygments_lexer": "ipython3",
   "version": "3.7.3"
  }
 },
 "nbformat": 4,
 "nbformat_minor": 2
}
